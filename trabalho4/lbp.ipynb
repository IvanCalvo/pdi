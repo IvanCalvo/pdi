{
 "cells": [
  {
   "cell_type": "code",
   "execution_count": 2,
   "metadata": {},
   "outputs": [
    {
     "data": {
      "image/png": "[encoded data removed]",
      "text/plain": [
       "<Figure size 864x720 with 20 Axes>"
      ]
     },
     "metadata": {
      "needs_background": "light"
     },
     "output_type": "display_data"
    }
   ],
   "source": [
    "import numpy as np\n",
    "import matplotlib.pyplot as plt\n",
    "import skimage.feature\n",
    "import os\n",
    "\n",
    "def read_digits(directory):\n",
    "    files = sorted(os.listdir(directory))\n",
    "    digit_images = []\n",
    "    labels = []\n",
    "    for file in files:\n",
    "        img = plt.imread(directory+'/'+file)\n",
    "        digit_images.append(img)\n",
    "        label = int(file.split('.')[0].split('_')[1])\n",
    "        labels.append(label)\n",
    "    \n",
    "    return digit_images, labels\n",
    "\n",
    "digits_per_class = 250\n",
    "train_imgs, train_labels = read_digits('digits/train')\n",
    "test_imgs, test_labels = read_digits('digits/test')\n",
    "    \n",
    "# Mostra 2 dígitos de cada classe\n",
    "k = 0\n",
    "plt.figure(figsize=(12,10))\n",
    "for i in range(20):\n",
    "    plt.subplot(4, 5, i+1)\n",
    "    plt.imshow(train_imgs[k], 'gray')\n",
    "    k += digits_per_class//2"
   ]
  },
  {
   "cell_type": "code",
   "execution_count": 23,
   "metadata": {},
   "outputs": [],
   "source": [
    "def get_pixel(img, center, x, y):\n",
    "      \n",
    "    new_value = 0\n",
    "      \n",
    "    try:\n",
    "        # If local neighbourhood pixel \n",
    "        # value is greater than or equal\n",
    "        # to center pixel values then \n",
    "        # set it to 1\n",
    "        if img[x][y] >= center:\n",
    "            new_value = 1\n",
    "              \n",
    "    except:\n",
    "        # Exception is required when \n",
    "        # neighbourhood value of a center\n",
    "        # pixel value is null i.e. values\n",
    "        # present at boundaries.\n",
    "        pass\n",
    "      \n",
    "    return new_value\n",
    "   \n",
    "# Function for calculating LBP\n",
    "def lbp_calculated_pixel(img, x, y):\n",
    "   \n",
    "    center = img[x][y]\n",
    "   \n",
    "    val_ar = []\n",
    "      \n",
    "    # top_left\n",
    "    val_ar.append(get_pixel(img, center, x-1, y-1))\n",
    "      \n",
    "    # top\n",
    "    val_ar.append(get_pixel(img, center, x-1, y))\n",
    "      \n",
    "    # top_right\n",
    "    val_ar.append(get_pixel(img, center, x-1, y + 1))\n",
    "      \n",
    "    # right\n",
    "    val_ar.append(get_pixel(img, center, x, y + 1))\n",
    "      \n",
    "    # bottom_right\n",
    "    val_ar.append(get_pixel(img, center, x + 1, y + 1))\n",
    "      \n",
    "    # bottom\n",
    "    val_ar.append(get_pixel(img, center, x + 1, y))\n",
    "      \n",
    "    # bottom_left\n",
    "    val_ar.append(get_pixel(img, center, x + 1, y-1))\n",
    "      \n",
    "    # left\n",
    "    val_ar.append(get_pixel(img, center, x, y-1))\n",
    "       \n",
    "    # Now, we need to convert binary\n",
    "    # values to decimal\n",
    "    power_val = [1, 2, 4, 8, 16, 32, 64, 128]\n",
    "   \n",
    "    val = 0\n",
    "      \n",
    "    for i in range(len(val_ar)):\n",
    "        val += val_ar[i] * power_val[i]\n",
    "          \n",
    "    return val"
   ]
  },
  {
   "cell_type": "code",
   "execution_count": 29,
   "metadata": {},
   "outputs": [],
   "source": [
    "def lbp_atributes(imgs):\n",
    "    lbp_data = []\n",
    "\n",
    "    height = 20\n",
    "    width = 20\n",
    "    img_lbp = np.zeros((height, width), np.uint8)\n",
    "\n",
    "    for img in imgs:\n",
    "        for i in range(0, height):\n",
    "            for j in range(0, width):\n",
    "                img_lbp[i, j] = lbp_calculated_pixel(img, i, j)\n",
    "        lbp_data.append(img_lbp)\n",
    "\n",
    "    return np.array(lbp_data)\n",
    "\n",
    "train_data = lbp_atributes(train_imgs)\n",
    "\n",
    "train_data.shape\n",
    "train_data = np.reshape(train_data, (2500, 400))\n"
   ]
  },
  {
   "cell_type": "code",
   "execution_count": 30,
   "metadata": {},
   "outputs": [
    {
     "name": "stdout",
     "output_type": "stream",
     "text": [
      "[255 255 255 255 255 255 255 255 255 255 255 255 255 255 255 255 255 255\n",
      " 255 227 255 255 255 255 255 255 255 255 255 255 255 255 255 255 255 255\n",
      " 255 255 255 227 255 255 255 255 255 255 255 255 255 255 255 255 255 255\n",
      " 255 255 255 255 255 227 255 255 255 255 255 255 255 255 255 255 255 255\n",
      " 255 255 255 255 255 255 255 227 255 255 255 255 255 255 255 255 255 120\n",
      " 120 120 112 240 240 224 255 255 255 227 255 255 255 255 255 255 255  56\n",
      " 120  72   0 128 136   8   0 224 225 255 255 227 255 255 255 255 255 255\n",
      "  60  56   0 198 135 135 143  31  11   1 193 255 255 227 255 255 255 255\n",
      " 255 255  60  44  66 199 255 255 255 127 110  67 195 255 255 227 255 255\n",
      " 255 255 255 255  28   0 243 243 255 120 120 104   0 195 255 255 255 227\n",
      " 255 255 255 255 255 255  14   2 129 128 184 120  64 196 195 255 255 255\n",
      " 255 227 255 255 255 255 255 255 255  15  15  31  25   4 194 195 255 255\n",
      " 255 255 255 227 255 255 255 255 255 255 255 255 255 127  46  66 195 255\n",
      " 255 255 255 255 255 227 255 255 255 255 255 255 255 255 120 108  64 195\n",
      " 195 255 255 255 255 255 255 227 255 255 255 255 255 255 255 120 104  68\n",
      " 131 131 255 255 255 255 255 255 255 227 255 255 255 255 255 120 120 104\n",
      "  68 199 199 255 255 255 255 255 255 255 255 227 255 255 255 255 120 120\n",
      "  72 132 131 195 255 255 255 255 255 255 255 255 255 227 255 255 255  56\n",
      "  56  68 134 135 131 255 255 255 255 255 255 255 255 255 255 227 255 255\n",
      " 255  28   4 134 135 255 255 255 255 255 255 255 255 255 255 255 255 227\n",
      " 255 255 255  14   6 135 131 255 255 255 255 255 255 255 255 255 255 255\n",
      " 255 227 143 143 143 143 143 143 143 143 143 143 143 143 143 143 143 143\n",
      " 143 143 143 131]\n"
     ]
    }
   ],
   "source": [
    "print(train_data[0])"
   ]
  },
  {
   "cell_type": "code",
   "execution_count": 26,
   "metadata": {},
   "outputs": [
    {
     "data": {
      "text/html": [
       "<style>#sk-container-id-3 {color: black;background-color: white;}#sk-container-id-3 pre{padding: 0;}#sk-container-id-3 div.sk-toggleable {background-color: white;}#sk-container-id-3 label.sk-toggleable__label {cursor: pointer;display: block;width: 100%;margin-bottom: 0;padding: 0.3em;box-sizing: border-box;text-align: center;}#sk-container-id-3 label.sk-toggleable__label-arrow:before {content: \"▸\";float: left;margin-right: 0.25em;color: #696969;}#sk-container-id-3 label.sk-toggleable__label-arrow:hover:before {color: black;}#sk-container-id-3 div.sk-estimator:hover label.sk-toggleable__label-arrow:before {color: black;}#sk-container-id-3 div.sk-toggleable__content {max-height: 0;max-width: 0;overflow: hidden;text-align: left;background-color: #f0f8ff;}#sk-container-id-3 div.sk-toggleable__content pre {margin: 0.2em;color: black;border-radius: 0.25em;background-color: #f0f8ff;}#sk-container-id-3 input.sk-toggleable__control:checked~div.sk-toggleable__content {max-height: 200px;max-width: 100%;overflow: auto;}#sk-container-id-3 input.sk-toggleable__control:checked~label.sk-toggleable__label-arrow:before {content: \"▾\";}#sk-container-id-3 div.sk-estimator input.sk-toggleable__control:checked~label.sk-toggleable__label {background-color: #d4ebff;}#sk-container-id-3 div.sk-label input.sk-toggleable__control:checked~label.sk-toggleable__label {background-color: #d4ebff;}#sk-container-id-3 input.sk-hidden--visually {border: 0;clip: rect(1px 1px 1px 1px);clip: rect(1px, 1px, 1px, 1px);height: 1px;margin: -1px;overflow: hidden;padding: 0;position: absolute;width: 1px;}#sk-container-id-3 div.sk-estimator {font-family: monospace;background-color: #f0f8ff;border: 1px dotted black;border-radius: 0.25em;box-sizing: border-box;margin-bottom: 0.5em;}#sk-container-id-3 div.sk-estimator:hover {background-color: #d4ebff;}#sk-container-id-3 div.sk-parallel-item::after {content: \"\";width: 100%;border-bottom: 1px solid gray;flex-grow: 1;}#sk-container-id-3 div.sk-label:hover label.sk-toggleable__label {background-color: #d4ebff;}#sk-container-id-3 div.sk-serial::before {content: \"\";position: absolute;border-left: 1px solid gray;box-sizing: border-box;top: 0;bottom: 0;left: 50%;z-index: 0;}#sk-container-id-3 div.sk-serial {display: flex;flex-direction: column;align-items: center;background-color: white;padding-right: 0.2em;padding-left: 0.2em;position: relative;}#sk-container-id-3 div.sk-item {position: relative;z-index: 1;}#sk-container-id-3 div.sk-parallel {display: flex;align-items: stretch;justify-content: center;background-color: white;position: relative;}#sk-container-id-3 div.sk-item::before, #sk-container-id-3 div.sk-parallel-item::before {content: \"\";position: absolute;border-left: 1px solid gray;box-sizing: border-box;top: 0;bottom: 0;left: 50%;z-index: -1;}#sk-container-id-3 div.sk-parallel-item {display: flex;flex-direction: column;z-index: 1;position: relative;background-color: white;}#sk-container-id-3 div.sk-parallel-item:first-child::after {align-self: flex-end;width: 50%;}#sk-container-id-3 div.sk-parallel-item:last-child::after {align-self: flex-start;width: 50%;}#sk-container-id-3 div.sk-parallel-item:only-child::after {width: 0;}#sk-container-id-3 div.sk-dashed-wrapped {border: 1px dashed gray;margin: 0 0.4em 0.5em 0.4em;box-sizing: border-box;padding-bottom: 0.4em;background-color: white;}#sk-container-id-3 div.sk-label label {font-family: monospace;font-weight: bold;display: inline-block;line-height: 1.2em;}#sk-container-id-3 div.sk-label-container {text-align: center;}#sk-container-id-3 div.sk-container {/* jupyter's `normalize.less` sets `[hidden] { display: none; }` but bootstrap.min.css set `[hidden] { display: none !important; }` so we also need the `!important` here to be able to override the default hidden behavior on the sphinx rendered scikit-learn.org. See: https://github.com/scikit-learn/scikit-learn/issues/21755 */display: inline-block !important;position: relative;}#sk-container-id-3 div.sk-text-repr-fallback {display: none;}</style><div id=\"sk-container-id-3\" class=\"sk-top-container\"><div class=\"sk-text-repr-fallback\"><pre>KNeighborsClassifier(n_neighbors=3)</pre><b>In a Jupyter environment, please rerun this cell to show the HTML representation or trust the notebook. <br />On GitHub, the HTML representation is unable to render, please try loading this page with nbviewer.org.</b></div><div class=\"sk-container\" hidden><div class=\"sk-item\"><div class=\"sk-estimator sk-toggleable\"><input class=\"sk-toggleable__control sk-hidden--visually\" id=\"sk-estimator-id-3\" type=\"checkbox\" checked><label for=\"sk-estimator-id-3\" class=\"sk-toggleable__label sk-toggleable__label-arrow\">KNeighborsClassifier</label><div class=\"sk-toggleable__content\"><pre>KNeighborsClassifier(n_neighbors=3)</pre></div></div></div></div></div>"
      ],
      "text/plain": [
       "KNeighborsClassifier(n_neighbors=3)"
      ]
     },
     "execution_count": 26,
     "metadata": {},
     "output_type": "execute_result"
    }
   ],
   "source": [
    "from sklearn.neighbors import KNeighborsClassifier\n",
    "\n",
    "# \"Treina\" o classificador. \n",
    "knn = KNeighborsClassifier(n_neighbors=3)\n",
    "knn.fit(train_data, train_labels)"
   ]
  },
  {
   "cell_type": "code",
   "execution_count": 32,
   "metadata": {},
   "outputs": [
    {
     "name": "stdout",
     "output_type": "stream",
     "text": [
      "[0 0 0 ... 0 0 0]\n",
      "Accurácia: 10.0%\n"
     ]
    }
   ],
   "source": [
    "test_data = lbp_atributes(test_imgs)\n",
    "test_data = np.reshape(test_data, (2500,400))\n",
    "\n",
    "# Classifica as imagens utilizando os 3 vizinhos mais próximos. result é\n",
    "# um array indicando o índice da classe de cada imagem de teste, neighbors\n",
    "# é uma matriz na qual cada linha i indica a classe dos k pontos mais próximos\n",
    "# ao ponto i e dist é uma matriz na qual cada linha i indica a distância entre\n",
    "# o ponto i e os k vizinhos mais próximos\n",
    "result = knn.predict(test_data)\n",
    "\n",
    "print(result)\n",
    "# Calcula porcentagem de acerto, dada pelo número de valores que são iguais em result\n",
    "# e responses dividido pelo número de imagens de teste. Aqui podemos utilizar a variável\n",
    "# labels criada anteriormente porque o conjunto de testes possui o mesmo número de imagens\n",
    "# que o conjunto de treinamento.\n",
    "mask = result==test_labels\n",
    "num_equal = np.sum(mask)\n",
    "print(\"Accurácia: {}%\".format(100*num_equal/len(result)))"
   ]
  }
 ],
 "metadata": {
  "kernelspec": {
   "display_name": "Python 3",
   "language": "python",
   "name": "python3"
  },
  "language_info": {
   "codemirror_mode": {
    "name": "ipython",
    "version": 3
   },
   "file_extension": ".py",
   "mimetype": "text/x-python",
   "name": "python",
   "nbconvert_exporter": "python",
   "pygments_lexer": "ipython3",
   "version": "3.10.6"
  },
  "orig_nbformat": 4
 },
 "nbformat": 4,
 "nbformat_minor": 2
}
