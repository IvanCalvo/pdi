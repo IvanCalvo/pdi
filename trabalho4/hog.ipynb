{
 "cells": [
  {
   "cell_type": "code",
   "execution_count": 1,
   "metadata": {},
   "outputs": [
    {
     "data": {
      "image/png": "[encoded data removed]",
      "text/plain": [
       "<Figure size 864x720 with 20 Axes>"
      ]
     },
     "metadata": {
      "needs_background": "light"
     },
     "output_type": "display_data"
    }
   ],
   "source": [
    "import numpy as np\n",
    "import matplotlib.pyplot as plt\n",
    "import skimage.feature\n",
    "import os\n",
    "\n",
    "def read_digits(directory):\n",
    "    '''Retorna uma lista contendo todas as imagens de dígitos dentro do diretório'''\n",
    "\n",
    "    files = sorted(os.listdir(directory))\n",
    "    digit_images = []\n",
    "    labels = []\n",
    "    for file in files:\n",
    "        img = plt.imread(directory+'/'+file)\n",
    "        digit_images.append(img)\n",
    "        label = int(file.split('.')[0].split('_')[1])\n",
    "        labels.append(label)\n",
    "    \n",
    "    return digit_images, labels\n",
    "\n",
    "digits_per_class = 250\n",
    "train_imgs, train_labels = read_digits('digits/train')\n",
    "test_imgs, test_labels = read_digits('digits/test')\n",
    "    \n",
    "# Mostra 2 dígitos de cada classe\n",
    "k = 0\n",
    "plt.figure(figsize=(12,10))\n",
    "for i in range(20):\n",
    "    plt.subplot(4, 5, i+1)\n",
    "    plt.imshow(train_imgs[k], 'gray')\n",
    "    k += digits_per_class//2"
   ]
  },
  {
   "cell_type": "code",
   "execution_count": 16,
   "metadata": {},
   "outputs": [
    {
     "name": "stdout",
     "output_type": "stream",
     "text": [
      "[ 0.00000000e+00  0.00000000e+00  0.00000000e+00  0.00000000e+00\n",
      "  0.00000000e+00  0.00000000e+00  0.00000000e+00  0.00000000e+00\n",
      "  0.00000000e+00  0.00000000e+00  5.10643460e-02  2.72367179e-01\n",
      " -2.53003240e-02 -2.67239381e-02  0.00000000e+00  0.00000000e+00\n",
      "  0.00000000e+00  0.00000000e+00  5.72361946e-02 -2.05441013e-01\n",
      "  0.00000000e+00  0.00000000e+00  0.00000000e+00  0.00000000e+00\n",
      "  0.00000000e+00  0.00000000e+00  0.00000000e+00  3.35129760e-02\n",
      "  3.43958586e-01  1.76832080e-02 -5.76764584e-01  1.32438391e-02\n",
      "  0.00000000e+00  0.00000000e+00 -3.74392681e-02  0.00000000e+00\n",
      "  0.00000000e+00  2.42764335e-02  1.29485726e-01 -1.35244466e-02\n",
      " -1.31176310e-02  0.00000000e+00  0.00000000e+00  0.00000000e+00\n",
      "  0.00000000e+00  6.23382851e-02  0.00000000e+00 -9.69815254e-03\n",
      "  7.24347681e-02  1.07354671e-02 -1.66045129e-02  9.60698724e-02\n",
      "  9.57965404e-02  0.00000000e+00  1.59323607e-02  2.07043111e-01\n",
      " -9.69815254e-03 -3.40384603e-01  2.97636539e-03  0.00000000e+00\n",
      "  0.00000000e+00 -1.83570627e-02  0.00000000e+00  1.24887399e-01\n",
      "  6.83262125e-02 -2.74048835e-01 -1.06831938e-02  1.34508058e-01\n",
      " -4.42259014e-03  3.57111134e-02 -2.09528849e-01  3.75792086e-02\n",
      "  8.55565593e-02  0.00000000e+00 -1.07648969e-02  1.09510101e-01\n",
      " -4.62925434e-03 -6.52462244e-03  3.76746953e-02  1.31476551e-01\n",
      "  0.00000000e+00  1.77827813e-02  0.00000000e+00  0.00000000e+00\n",
      "  0.00000000e+00  0.00000000e+00 -1.73248872e-02 -4.01080176e-02\n",
      " -1.75219029e-01 -1.11174449e-01  1.53342158e-01  9.37747359e-02\n",
      " -1.82929888e-01  1.76670849e-02  2.56704092e-02  1.49799287e-02\n",
      "  4.90119345e-02 -2.09199637e-01 -1.07648969e-02 -1.39137015e-01\n",
      "  0.00000000e+00  0.00000000e+00  0.00000000e+00  0.00000000e+00\n",
      "  0.00000000e+00  0.00000000e+00  2.99297780e-01  4.74646986e-02\n",
      "  3.32374722e-02 -1.09022081e-01  0.00000000e+00  0.00000000e+00\n",
      "  0.00000000e+00  0.00000000e+00  0.00000000e+00  0.00000000e+00\n",
      "  0.00000000e+00  1.86153948e-02  2.53873467e-01  3.82969677e-02\n",
      " -3.47132981e-01  1.28784776e-02  0.00000000e+00  0.00000000e+00\n",
      " -1.98680237e-02  0.00000000e+00  8.81450176e-02 -1.64067402e-01\n",
      " -3.07932496e-01  0.00000000e+00  0.00000000e+00  0.00000000e+00\n",
      " -1.54467583e-01 -1.10763170e-01 -7.39759952e-02 -5.39096892e-02\n",
      "  2.66736984e-01 -1.29744306e-01  1.29744992e-01 -1.48186058e-01\n",
      " -6.74261600e-02  5.04699722e-02 -9.89248008e-02  3.61906365e-02\n",
      "  1.27445012e-02  2.16237232e-01 -9.27808881e-03 -2.90395021e-01\n",
      "  3.65726650e-04  0.00000000e+00  0.00000000e+00 -1.50228161e-02\n",
      "  0.00000000e+00  9.77090970e-02  5.46550266e-02 -2.70601809e-01\n",
      " -1.27315521e-02  1.52070031e-01 -6.26314431e-03  2.85657812e-02\n",
      " -1.72827721e-01  2.47262269e-02 -1.26439214e-01  2.25963742e-01\n",
      " -9.81036052e-02  7.73729831e-02 -1.18021473e-01 -6.14795685e-02\n",
      "  2.61703283e-02 -7.78210908e-02  1.76872686e-02  8.55263919e-02\n",
      " -6.59672171e-02 -9.27808881e-03  1.08933553e-01 -4.35956083e-02\n",
      "  0.00000000e+00  0.00000000e+00 -1.26510821e-02 -1.18850758e-02\n",
      "  1.30165130e-01  7.16349185e-02 -2.36641288e-01 -1.26722455e-02\n",
      "  7.52078891e-02 -5.59498370e-03  3.74404266e-02 -2.21511573e-01\n",
      "  4.99171019e-03 -2.03187719e-01  0.00000000e+00  0.00000000e+00\n",
      "  0.00000000e+00  0.00000000e+00  0.00000000e+00  0.00000000e+00\n",
      "  3.09898883e-01  9.39009041e-02  1.15099117e-01 -8.27627778e-02\n",
      " -2.38596797e-02  1.03966817e-01 -5.60125411e-02  0.00000000e+00\n",
      "  0.00000000e+00 -1.63078345e-02 -1.53204165e-02 -1.58714473e-01\n",
      "  3.21146846e-02  1.43716350e-01  2.73776669e-02  0.00000000e+00\n",
      "  0.00000000e+00  0.00000000e+00  0.00000000e+00 -7.06624910e-02\n",
      "  4.36421633e-02 -1.93986401e-01 -2.92781293e-01  0.00000000e+00\n",
      "  0.00000000e+00  0.00000000e+00 -1.82635963e-01 -1.30961716e-01\n",
      " -8.31953734e-02  4.36421633e-02  1.59759030e-01 -1.53404221e-01\n",
      "  1.47050396e-01 -1.72616959e-01 -7.51671642e-02  6.48769736e-02\n",
      " -1.15653619e-01  4.69895899e-02  4.18520272e-02  0.00000000e+00\n",
      "  0.00000000e+00  0.00000000e+00  4.57756547e-03 -2.39826962e-02\n",
      " -1.96776494e-01  8.33482295e-02  1.65265277e-01  0.00000000e+00\n",
      "  0.00000000e+00  2.10321128e-01 -4.62219268e-02  4.36421633e-02\n",
      "  4.62896973e-02  4.36421633e-02  1.58955351e-01  0.00000000e+00\n",
      " -4.84735966e-02  1.80782348e-01 -1.24285921e-01  1.00934714e-01\n",
      " -1.48680463e-01 -7.64130652e-02  3.48392129e-02 -9.81659591e-02\n",
      "  2.37671211e-02  1.11643389e-01 -8.20314735e-02 -8.78554583e-03\n",
      "  1.21521831e-01 -5.51056117e-02  0.00000000e+00  0.00000000e+00\n",
      " -1.60274580e-02 -1.50570162e-02  0.00000000e+00  0.00000000e+00\n",
      "  1.52079895e-01 -1.54004738e-01 -8.78554583e-03  2.73062140e-02\n",
      " -3.57374251e-02  1.14938110e-01  0.00000000e+00  0.00000000e+00\n",
      " -3.48888412e-02 -8.78554583e-03 -2.83934325e-02 -5.42958453e-02\n",
      "  0.00000000e+00  0.00000000e+00  0.00000000e+00  0.00000000e+00\n",
      "  1.22629166e-01 -1.31866142e-01 -2.83093750e-02  8.10855329e-02\n",
      " -8.65212530e-02  0.00000000e+00  0.00000000e+00 -2.50823889e-02\n",
      " -2.35636812e-02 -1.62714958e-01  4.31892127e-02  2.00843886e-01\n",
      "  4.11993191e-02  0.00000000e+00  0.00000000e+00  0.00000000e+00\n",
      "  0.00000000e+00 -1.08682975e-01  0.00000000e+00 -5.45997657e-02\n",
      " -2.83093750e-02 -4.64231819e-02 -8.55961293e-02  0.00000000e+00\n",
      "  0.00000000e+00  0.00000000e+00  0.00000000e+00  0.00000000e+00\n",
      "  0.00000000e+00  0.00000000e+00  0.00000000e+00  0.00000000e+00\n",
      "  0.00000000e+00  0.00000000e+00  0.00000000e+00  0.00000000e+00]\n"
     ]
    }
   ],
   "source": [
    "def hog_properties(img_list, nbins, cell_size, block_size):\n",
    "    ''' Calcula atributos HOG para cada imagem de `img_list`'''\n",
    "    \n",
    "    hog_data = []\n",
    "    for img in img_list:\n",
    "        hog = skimage.feature.hog(img, orientations=nbins, \n",
    "                                  pixels_per_cell=cell_size, \n",
    "                                  cells_per_block=block_size)\n",
    "        hog_data.append(hog)\n",
    "    \n",
    "    return np.array(hog_data)\n",
    "\n",
    "nbins = 9                 # Número de caixas no histograma\n",
    "cell_size = (5, 5)        # Tamanho da célula (quadrados verdes nos slides)\n",
    "block_size = (2, 2)       # Tamanho do bloco (quadrado azul nos slides), em nro de células\n",
    "# Com os parâmetros utilizados, cada bloco possui 4 células de tamanho 5x5. Portanto, teremos \n",
    "# 9 blocos ao longo da imagem. Cada célula define um histograma de 9 caixas. Com isso, teremos\n",
    "# 9 (blocos) * 4 (células por bloco) * 9 (valores por célula) = 324 atributos associados com \n",
    "# cada imagem\n",
    "\n",
    "train_data = hog_properties(train_imgs, nbins, cell_size, block_size)\n",
    "# Imprime os atributos HOG para a primeia imagem\n",
    "print(train_data[0] - train_data[1])"
   ]
  },
  {
   "cell_type": "code",
   "execution_count": 10,
   "metadata": {},
   "outputs": [
    {
     "data": {
      "text/html": [
       "<style>#sk-container-id-2 {color: black;background-color: white;}#sk-container-id-2 pre{padding: 0;}#sk-container-id-2 div.sk-toggleable {background-color: white;}#sk-container-id-2 label.sk-toggleable__label {cursor: pointer;display: block;width: 100%;margin-bottom: 0;padding: 0.3em;box-sizing: border-box;text-align: center;}#sk-container-id-2 label.sk-toggleable__label-arrow:before {content: \"▸\";float: left;margin-right: 0.25em;color: #696969;}#sk-container-id-2 label.sk-toggleable__label-arrow:hover:before {color: black;}#sk-container-id-2 div.sk-estimator:hover label.sk-toggleable__label-arrow:before {color: black;}#sk-container-id-2 div.sk-toggleable__content {max-height: 0;max-width: 0;overflow: hidden;text-align: left;background-color: #f0f8ff;}#sk-container-id-2 div.sk-toggleable__content pre {margin: 0.2em;color: black;border-radius: 0.25em;background-color: #f0f8ff;}#sk-container-id-2 input.sk-toggleable__control:checked~div.sk-toggleable__content {max-height: 200px;max-width: 100%;overflow: auto;}#sk-container-id-2 input.sk-toggleable__control:checked~label.sk-toggleable__label-arrow:before {content: \"▾\";}#sk-container-id-2 div.sk-estimator input.sk-toggleable__control:checked~label.sk-toggleable__label {background-color: #d4ebff;}#sk-container-id-2 div.sk-label input.sk-toggleable__control:checked~label.sk-toggleable__label {background-color: #d4ebff;}#sk-container-id-2 input.sk-hidden--visually {border: 0;clip: rect(1px 1px 1px 1px);clip: rect(1px, 1px, 1px, 1px);height: 1px;margin: -1px;overflow: hidden;padding: 0;position: absolute;width: 1px;}#sk-container-id-2 div.sk-estimator {font-family: monospace;background-color: #f0f8ff;border: 1px dotted black;border-radius: 0.25em;box-sizing: border-box;margin-bottom: 0.5em;}#sk-container-id-2 div.sk-estimator:hover {background-color: #d4ebff;}#sk-container-id-2 div.sk-parallel-item::after {content: \"\";width: 100%;border-bottom: 1px solid gray;flex-grow: 1;}#sk-container-id-2 div.sk-label:hover label.sk-toggleable__label {background-color: #d4ebff;}#sk-container-id-2 div.sk-serial::before {content: \"\";position: absolute;border-left: 1px solid gray;box-sizing: border-box;top: 0;bottom: 0;left: 50%;z-index: 0;}#sk-container-id-2 div.sk-serial {display: flex;flex-direction: column;align-items: center;background-color: white;padding-right: 0.2em;padding-left: 0.2em;position: relative;}#sk-container-id-2 div.sk-item {position: relative;z-index: 1;}#sk-container-id-2 div.sk-parallel {display: flex;align-items: stretch;justify-content: center;background-color: white;position: relative;}#sk-container-id-2 div.sk-item::before, #sk-container-id-2 div.sk-parallel-item::before {content: \"\";position: absolute;border-left: 1px solid gray;box-sizing: border-box;top: 0;bottom: 0;left: 50%;z-index: -1;}#sk-container-id-2 div.sk-parallel-item {display: flex;flex-direction: column;z-index: 1;position: relative;background-color: white;}#sk-container-id-2 div.sk-parallel-item:first-child::after {align-self: flex-end;width: 50%;}#sk-container-id-2 div.sk-parallel-item:last-child::after {align-self: flex-start;width: 50%;}#sk-container-id-2 div.sk-parallel-item:only-child::after {width: 0;}#sk-container-id-2 div.sk-dashed-wrapped {border: 1px dashed gray;margin: 0 0.4em 0.5em 0.4em;box-sizing: border-box;padding-bottom: 0.4em;background-color: white;}#sk-container-id-2 div.sk-label label {font-family: monospace;font-weight: bold;display: inline-block;line-height: 1.2em;}#sk-container-id-2 div.sk-label-container {text-align: center;}#sk-container-id-2 div.sk-container {/* jupyter's `normalize.less` sets `[hidden] { display: none; }` but bootstrap.min.css set `[hidden] { display: none !important; }` so we also need the `!important` here to be able to override the default hidden behavior on the sphinx rendered scikit-learn.org. See: https://github.com/scikit-learn/scikit-learn/issues/21755 */display: inline-block !important;position: relative;}#sk-container-id-2 div.sk-text-repr-fallback {display: none;}</style><div id=\"sk-container-id-2\" class=\"sk-top-container\"><div class=\"sk-text-repr-fallback\"><pre>KNeighborsClassifier()</pre><b>In a Jupyter environment, please rerun this cell to show the HTML representation or trust the notebook. <br />On GitHub, the HTML representation is unable to render, please try loading this page with nbviewer.org.</b></div><div class=\"sk-container\" hidden><div class=\"sk-item\"><div class=\"sk-estimator sk-toggleable\"><input class=\"sk-toggleable__control sk-hidden--visually\" id=\"sk-estimator-id-2\" type=\"checkbox\" checked><label for=\"sk-estimator-id-2\" class=\"sk-toggleable__label sk-toggleable__label-arrow\">KNeighborsClassifier</label><div class=\"sk-toggleable__content\"><pre>KNeighborsClassifier()</pre></div></div></div></div></div>"
      ],
      "text/plain": [
       "KNeighborsClassifier()"
      ]
     },
     "execution_count": 10,
     "metadata": {},
     "output_type": "execute_result"
    }
   ],
   "source": [
    "from sklearn.neighbors import KNeighborsClassifier\n",
    "\n",
    "# \"Treina\" o classificador. \n",
    "knn = KNeighborsClassifier(n_neighbors=5)\n",
    "knn.fit(train_data, train_labels)"
   ]
  },
  {
   "cell_type": "code",
   "execution_count": 11,
   "metadata": {},
   "outputs": [
    {
     "name": "stdout",
     "output_type": "stream",
     "text": [
      "Accurácia: 93.8%\n"
     ]
    }
   ],
   "source": [
    "test_data = hog_properties(test_imgs, nbins, cell_size, block_size)\n",
    "\n",
    "# Classifica as imagens utilizando os 3 vizinhos mais próximos. result é\n",
    "# um array indicando o índice da classe de cada imagem de teste, neighbors\n",
    "# é uma matriz na qual cada linha i indica a classe dos k pontos mais próximos\n",
    "# ao ponto i e dist é uma matriz na qual cada linha i indica a distância entre\n",
    "# o ponto i e os k vizinhos mais próximos\n",
    "result = knn.predict(test_data)\n",
    "\n",
    "# Calcula porcentagem de acerto, dada pelo número de valores que são iguais em result\n",
    "# e responses dividido pelo número de imagens de teste. Aqui podemos utilizar a variável\n",
    "# labels criada anteriormente porque o conjunto de testes possui o mesmo número de imagens\n",
    "# que o conjunto de treinamento.\n",
    "mask = result==test_labels\n",
    "num_equal = np.sum(mask)\n",
    "print(\"Accurácia: {}%\".format(100*num_equal/len(result)))"
   ]
  }
 ],
 "metadata": {
  "kernelspec": {
   "display_name": "Python 3",
   "language": "python",
   "name": "python3"
  },
  "language_info": {
   "codemirror_mode": {
    "name": "ipython",
    "version": 3
   },
   "file_extension": ".py",
   "mimetype": "text/x-python",
   "name": "python",
   "nbconvert_exporter": "python",
   "pygments_lexer": "ipython3",
   "version": "3.10.6"
  },
  "orig_nbformat": 4
 },
 "nbformat": 4,
 "nbformat_minor": 2
}
