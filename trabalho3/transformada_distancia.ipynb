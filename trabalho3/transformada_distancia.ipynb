{
 "cells": [
  {
   "cell_type": "code",
   "execution_count": 3,
   "metadata": {},
   "outputs": [],
   "source": [
    "import matplotlib.pyplot as plt\n",
    "import numpy as np"
   ]
  },
  {
   "cell_type": "code",
   "execution_count": 4,
   "metadata": {},
   "outputs": [],
   "source": [
    "def imshow_with_grid(img):\n",
    "    '''Plota imagem junto com uma grade para facilitar a visualização dos pixels'''\n",
    "    plt.imshow(img, 'gray')\n",
    "    plt.xticks(np.arange(-0.5, img.shape[1]+0.5))\n",
    "    plt.yticks(np.arange(-0.5, img.shape[0]+0.5))\n",
    "    plt.grid()"
   ]
  },
  {
   "cell_type": "code",
   "execution_count": 5,
   "metadata": {},
   "outputs": [
    {
     "data": {
      "image/png": "[encoded data removed]",
      "text/plain": [
       "<Figure size 432x288 with 1 Axes>"
      ]
     },
     "metadata": {
      "needs_background": "light"
     },
     "output_type": "display_data"
    }
   ],
   "source": [
    "img = plt.imread('shape.tiff')\n",
    "# A imagem está no intervalo [0, 255], o comando abaixo é utilizado\n",
    "# para transformar a imagem para o tipo bool [False, True]\n",
    "img = img>0\n",
    "imshow_with_grid(img)"
   ]
  },
  {
   "cell_type": "code",
   "execution_count": 6,
   "metadata": {},
   "outputs": [],
   "source": [
    "def dilation(img, elem_est, origin):\n",
    "    '''Dilatação de uma imagem binária img utilizando o elemento\n",
    "       estruturante elem_est. A origem do elemento estruturante\n",
    "       é indicada pelo ponto origin'''\n",
    "\n",
    "    num_rows, num_cols = img.shape\n",
    "    num_rows_ee, num_cols_ee = elem_est.shape\n",
    "    \n",
    "    # Armazena as coordenadas do elemento estruturante. As coordenadas\n",
    "    # são refletidas, de acordo com a definição de dilatação\n",
    "    set_ee = []\n",
    "    for row in range(num_rows_ee):\n",
    "        for col in range(num_cols_ee):\n",
    "            if elem_est[row, col]==1:\n",
    "                set_ee.append((origin[0]-row, origin[1]-col))\n",
    "    \n",
    "    img_res = np.zeros_like(img)\n",
    "    for row in range(num_rows):\n",
    "        for col in range(num_cols):\n",
    "            z = (row, col)\n",
    "            has_intersect = intersects(img, set_ee, z)\n",
    "            if has_intersect:\n",
    "                img_res[row, col] = 1\n",
    "                \n",
    "    return img_res \n",
    "\n",
    "def intersects(img, set_ee, z):\n",
    "    '''Verifica se algum ponto do conjunto set_ee, transladado \n",
    "       de uma quantia z, mapeia para um pixel branco na imagem img'''\n",
    "\n",
    "    for point in set_ee:\n",
    "        # Translada o ponto\n",
    "        trans_point = (point[0]+z[0], point[1]+z[1])\n",
    "        # Verifica ponto somente se ele estiver dentro da imagem\n",
    "        if trans_point[0]>=0 and trans_point[0]<img.shape[0] and \\\n",
    "           trans_point[1]>=0 and trans_point[1]<img.shape[1]:\n",
    "        \n",
    "            if img[trans_point]==1:\n",
    "                return True\n",
    "    return False"
   ]
  },
  {
   "cell_type": "code",
   "execution_count": 7,
   "metadata": {},
   "outputs": [
    {
     "data": {
      "image/png": "[encoded data removed]",
      "text/plain": [
       "<Figure size 432x288 with 1 Axes>"
      ]
     },
     "metadata": {
      "needs_background": "light"
     },
     "output_type": "display_data"
    }
   ],
   "source": [
    "elem_est = np.array([[1, 1, 1],\n",
    "                     [1, 1, 1],\n",
    "                     [1, 1, 1]])\n",
    "\n",
    "img_res = dilation(img, elem_est, origin=(1, 1))\n",
    "imshow_with_grid(img_res)"
   ]
  }
 ],
 "metadata": {
  "kernelspec": {
   "display_name": "Python 3",
   "language": "python",
   "name": "python3"
  },
  "language_info": {
   "codemirror_mode": {
    "name": "ipython",
    "version": 3
   },
   "file_extension": ".py",
   "mimetype": "text/x-python",
   "name": "python",
   "nbconvert_exporter": "python",
   "pygments_lexer": "ipython3",
   "version": "3.10.6"
  },
  "orig_nbformat": 4,
  "vscode": {
   "interpreter": {
    "hash": "916dbcbb3f70747c44a77c7bcd40155683ae19c65e1c03b4aa3499c5328201f1"
   }
  }
 },
 "nbformat": 4,
 "nbformat_minor": 2
}
