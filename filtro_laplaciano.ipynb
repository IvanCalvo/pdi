{
 "cells": [
  {
   "cell_type": "code",
   "execution_count": null,
   "metadata": {},
   "outputs": [],
   "source": [
    "import matplotlib.pyplot as plt\n",
    "import numpy as np"
   ]
  },
  {
   "cell_type": "code",
   "execution_count": null,
   "metadata": {},
   "outputs": [],
   "source": [
    "#O filtro na posição x, y de uma imagem retorna um valor f correspondente ao novo valor daquele ponto\n",
    "def filtro_laplaciano(x, y, c, sigma2):\n",
    "    sigma1 = c * sigma2\n",
    "    f1 = (1/(2*np.pi*sigma1**2))*(np.e**(-(x**2*y**2)/2*sigma1**2))\n",
    "    f2 = (1/(2*np.pi*sigma2**2))*(np.e**(-(x**2*y**2)/2*sigma2**2))\n",
    "    f = f1-f2\n",
    "    return f"
   ]
  }
 ],
 "metadata": {
  "kernelspec": {
   "display_name": "Python 3",
   "language": "python",
   "name": "python3"
  },
  "language_info": {
   "name": "python",
   "version": "3.10.6 (main, Nov 14 2022, 16:10:14) [GCC 11.3.0]"
  },
  "orig_nbformat": 4,
  "vscode": {
   "interpreter": {
    "hash": "916dbcbb3f70747c44a77c7bcd40155683ae19c65e1c03b4aa3499c5328201f1"
   }
  }
 },
 "nbformat": 4,
 "nbformat_minor": 2
}
